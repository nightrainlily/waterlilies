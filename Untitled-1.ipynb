{
 "cells": [
  {
   "cell_type": "code",
   "execution_count": null,
   "metadata": {},
   "outputs": [],
   "source": [
    "import numpy as np\n",
    "from PIL import Image, ImageStat"
   ]
  },
  {
   "cell_type": "markdown",
   "metadata": {},
   "source": [
    "I recently visited the Musée de l'Orangerie in Paris, where I saw Claude Monet's Water Lilies. There are eight compositions in total, in two oval-shaped rooms--like two halves of an infinity symbol. The rooms are lit by natural light and people view the paintings from seating in the center.\n",
    "\n",
    "It was a partly cloudy day in Paris, and the paintings seemed to change all the time as the sun was more or less present in the room. I started thinking about paint and light, and the way that we perceive color. Why are we still compelled to view great works of art in person, when there are hundreds of images online that show their every detail?"
   ]
  },
  {
   "cell_type": "markdown",
   "metadata": {},
   "source": [
    "Here are two versions of the first Water Lilies composition, \"Reflets d'arbres\":"
   ]
  },
  {
   "cell_type": "code",
   "execution_count": null,
   "metadata": {},
   "outputs": [],
   "source": [
    "reflets_1 = \"url\"\n",
    "reflets_2 = \"url\"\n",
    "\n",
    "image1 = Image.open(reflets_1)\n",
    "image2 = Image.open(reflets_2)\n",
    "\n",
    "image1.show()\n",
    "image2.show()"
   ]
  },
  {
   "cell_type": "markdown",
   "metadata": {},
   "source": [
    "Here is a list of the colors the computer sees in each image:"
   ]
  },
  {
   "cell_type": "code",
   "execution_count": null,
   "metadata": {},
   "outputs": [],
   "source": [
    "colors1 = image1.getcolors()\n",
    "colors2 = image2.getcolors()\n",
    "\n",
    "print(colors1)\n",
    "print(colors2)"
   ]
  },
  {
   "cell_type": "code",
   "execution_count": null,
   "metadata": {},
   "outputs": [],
   "source": []
  },
  {
   "cell_type": "code",
   "execution_count": null,
   "metadata": {},
   "outputs": [],
   "source": [
    "#load and format image\n",
    "filename = \"url\"\n",
    "with Image.open(filename) as image: \n",
    "    image = image.resize((14900, 9450))\n",
    "    width, height = image.size"
   ]
  },
  {
   "cell_type": "code",
   "execution_count": null,
   "metadata": {},
   "outputs": [],
   "source": [
    "#split into tiles and get averages\n",
    "output = Image.new('RGB',(14900,9450))\n",
    "tilew, tileh = 50, 50\n",
    "for x in np.arange(0, width, tilew):\n",
    "    for y in np.arange(0, height, tileh):\n",
    "        box = (x, y, x+tilew, y+tileh)\n",
    "        tile = image.crop(box)\n",
    "        mean = [int(x) for x in ImageStat.Stat(tile).mean]\n",
    "        r = Image.new('RGB',(tilew,tileh),tuple(mean))\n",
    "        output.paste(r,(x,y))"
   ]
  },
  {
   "cell_type": "code",
   "execution_count": null,
   "metadata": {},
   "outputs": [],
   "source": [
    "#show images\n",
    "image.show()\n",
    "output.show()"
   ]
  }
 ],
 "metadata": {
  "language_info": {
   "name": "python"
  }
 },
 "nbformat": 4,
 "nbformat_minor": 2
}
